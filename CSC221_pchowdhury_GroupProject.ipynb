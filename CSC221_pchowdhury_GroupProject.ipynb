{
 "cells": [
  {
   "cell_type": "code",
   "execution_count": 29,
   "metadata": {},
   "outputs": [
    {
     "name": "stdout",
     "output_type": "stream",
     "text": [
      "['Asian alone', 'White alone', 'Hispanic or Latino', 'Black']\n",
      "[114105, 89632, 68319, 58985]\n",
      "[<table class=\"wikitable sortable\" style=\"margin: 1em auto 1em auto;\">\n",
      "<caption>Mean household income by ethnicity<sup class=\"reference\" id=\"cite_ref-Census2014_35-1\"><a href=\"#cite_note-Census2014-35\">[35]</a></sup>\n",
      "</caption>\n",
      "<tbody><tr>\n",
      "<th scope=\"col\">Ethnic category\n",
      "</th>\n",
      "<th scope=\"col\">Mean household income\n",
      "</th></tr>\n",
      "<tr>\n",
      "<td><a class=\"mw-redirect\" href=\"/wiki/Asian-Americans\" title=\"Asian-Americans\">Asian alone</a></td>\n",
      "<td>$114,105\n",
      "</td></tr>\n",
      "<tr>\n",
      "<td><a href=\"/wiki/Non-Hispanic_whites\" title=\"Non-Hispanic whites\">White alone</a></td>\n",
      "<td>$89,632\n",
      "</td></tr>\n",
      "<tr>\n",
      "<td><a href=\"/wiki/Hispanic\" title=\"Hispanic\">Hispanic or Latino</a></td>\n",
      "<td>$68,319\n",
      "</td></tr>\n",
      "<tr>\n",
      "<td><a class=\"mw-redirect\" href=\"/wiki/African_American\" title=\"African American\">Black</a></td>\n",
      "<td>$58,985\n",
      "</td></tr></tbody></table>]\n",
      "[]\n"
     ]
    }
   ],
   "source": [
    "from pandas import DataFrame\n",
    "import urllib.request\n",
    "from bs4 import BeautifulSoup\n",
    "url = \"https://en.wikipedia.org/wiki/Household_income_in_the_United_States\"\n",
    "page = urllib.request.urlopen(url)\n",
    "soup = BeautifulSoup(page, \"lxml\")\n",
    "mydivs = soup.find_all(\"table\", {\"class\": \"wikitable sortable jquery-tablesorter\"})\n",
    "\n",
    "household_income = soup.select(\"table.wikitable:nth-child(51)\")[0]\n",
    "\n",
    "column1 = []\n",
    "\n",
    "column2 = []\n",
    "for item in household_income.find_all(\"td\"):\n",
    "    if len(item.find_all('a'))==1 : \n",
    "        cols = item.find('a')\n",
    "        column1.append( cols.find(text=True).strip())\n",
    "        \n",
    "    else :\n",
    "        column2.append( int (item.find(text=True).strip().replace(\"$\",\"\").replace(\",\",\"\")))\n",
    "        \n",
    "print(column1)\n",
    "print(column2)\n",
    "    \n",
    "\n",
    "print(soup.select(\"table.wikitable:nth-child(51)\"))\n",
    "print(mydivs)\n",
    "\n",
    "\n",
    "tableDict = {\"Ethnic catagory\":column1, \"Mean household income\":column2}\n",
    "\n",
    "\n",
    "popData = DataFrame(tableDict)\n",
    "popData.title = \"Mean household income by ethnicity\"\n",
    "\n"
   ]
  },
  {
   "cell_type": "code",
   "execution_count": 30,
   "metadata": {},
   "outputs": [
    {
     "data": {
      "text/html": [
       "<div>\n",
       "<style scoped>\n",
       "    .dataframe tbody tr th:only-of-type {\n",
       "        vertical-align: middle;\n",
       "    }\n",
       "\n",
       "    .dataframe tbody tr th {\n",
       "        vertical-align: top;\n",
       "    }\n",
       "\n",
       "    .dataframe thead th {\n",
       "        text-align: right;\n",
       "    }\n",
       "</style>\n",
       "<table border=\"1\" class=\"dataframe\">\n",
       "  <thead>\n",
       "    <tr style=\"text-align: right;\">\n",
       "      <th></th>\n",
       "      <th>Ethnic catagory</th>\n",
       "      <th>Mean household income</th>\n",
       "    </tr>\n",
       "  </thead>\n",
       "  <tbody>\n",
       "    <tr>\n",
       "      <th>0</th>\n",
       "      <td>Asian alone</td>\n",
       "      <td>114105</td>\n",
       "    </tr>\n",
       "    <tr>\n",
       "      <th>1</th>\n",
       "      <td>White alone</td>\n",
       "      <td>89632</td>\n",
       "    </tr>\n",
       "    <tr>\n",
       "      <th>2</th>\n",
       "      <td>Hispanic or Latino</td>\n",
       "      <td>68319</td>\n",
       "    </tr>\n",
       "    <tr>\n",
       "      <th>3</th>\n",
       "      <td>Black</td>\n",
       "      <td>58985</td>\n",
       "    </tr>\n",
       "  </tbody>\n",
       "</table>\n",
       "</div>"
      ],
      "text/plain": [
       "      Ethnic catagory  Mean household income\n",
       "0         Asian alone                 114105\n",
       "1         White alone                  89632\n",
       "2  Hispanic or Latino                  68319\n",
       "3               Black                  58985"
      ]
     },
     "execution_count": 30,
     "metadata": {},
     "output_type": "execute_result"
    }
   ],
   "source": [
    "popData "
   ]
  },
  {
   "cell_type": "code",
   "execution_count": 31,
   "metadata": {},
   "outputs": [],
   "source": [
    "\n",
    "    \n",
    "popData.to_csv('CSC221_webscrape_data.csv')\n"
   ]
  },
  {
   "cell_type": "code",
   "execution_count": null,
   "metadata": {},
   "outputs": [],
   "source": []
  }
 ],
 "metadata": {
  "kernelspec": {
   "display_name": "Python 3",
   "language": "python",
   "name": "python3"
  },
  "language_info": {
   "codemirror_mode": {
    "name": "ipython",
    "version": 3
   },
   "file_extension": ".py",
   "mimetype": "text/x-python",
   "name": "python",
   "nbconvert_exporter": "python",
   "pygments_lexer": "ipython3",
   "version": "3.8.5"
  }
 },
 "nbformat": 4,
 "nbformat_minor": 4
}
